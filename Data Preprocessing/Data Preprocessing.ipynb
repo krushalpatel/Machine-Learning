{
 "cells": [
  {
   "cell_type": "code",
   "execution_count": 1,
   "id": "08756bf3",
   "metadata": {},
   "outputs": [
    {
     "name": "stdout",
     "output_type": "stream",
     "text": [
      "   year  persons  males  females\n",
      "0  1951    18.33  27.16     8.55\n",
      "1  1961    28.30  40.40    15.35\n",
      "2  1971    35.45  45.96    21.57\n",
      "3  1981    43.57  56.38    29.76\n",
      "4  1991    52.24  64.13    39.23\n"
     ]
    }
   ],
   "source": [
    "import pandas as pd \n",
    "\n",
    "df=pd.read_csv(\"Table.csv\")\n",
    "print(df)"
   ]
  },
  {
   "cell_type": "code",
   "execution_count": 13,
   "id": "23a08d44",
   "metadata": {},
   "outputs": [
    {
     "name": "stdout",
     "output_type": "stream",
     "text": [
      "   year  persons  males  females\n",
      "0  1951    18.33  27.16     8.55\n",
      "1  1961    28.30  40.40    15.35\n",
      "2  1971    35.45  45.96    21.57\n",
      "3  1981    43.57  56.38    29.76\n",
      "4  1991    52.24  64.13    39.23\n",
      "   persons  males  females\n",
      "0    18.33  27.16     8.55\n",
      "1    28.30  40.40    15.35\n",
      "2    35.45  45.96    21.57\n",
      "3    43.57  56.38    29.76\n",
      "4    52.24  64.13    39.23\n",
      "persons    35.578\n",
      "males      46.806\n",
      "females    22.892\n",
      "dtype: float64\n",
      "persons    13.152694\n",
      "males      14.313458\n",
      "females    12.025204\n",
      "dtype: float64\n",
      "[[0.         0.         0.        ]\n",
      " [0.29401357 0.35812821 0.22164276]\n",
      " [0.50486582 0.50852042 0.4243807 ]\n",
      " [0.74432321 0.79037057 0.69132986]\n",
      " [1.         1.         1.        ]]\n"
     ]
    }
   ],
   "source": [
    "import pandas as pd \n",
    "\n",
    "df=pd.read_csv(\"Table.csv\")\n",
    "print(df)\n",
    "\n",
    "data=df[['persons','males','females']]\n",
    "print(data)\n",
    "\n",
    "print(data.mean(axis=0))\n",
    "print(data.std(axis=0))\n",
    "\n",
    "# mean_removed_data = preprocessing.scale(data)\n",
    "# print(mean_removed_data.mean(axis=0))\n",
    "# print(mean_removed_data.std(axis=0))\n",
    "\n",
    "\n",
    "data=df[['persons','males','females']]\n",
    "scaller_model=preprocessing.MinMaxScaler()\n",
    "\n",
    "op=scaller_model.fit_transform(data)\n",
    "print(op)"
   ]
  },
  {
   "cell_type": "code",
   "execution_count": 3,
   "id": "ed65430f",
   "metadata": {},
   "outputs": [
    {
     "name": "stdout",
     "output_type": "stream",
     "text": [
      "[[0.2 1. ]\n",
      " [1.  0. ]\n",
      " [0.  0. ]]\n"
     ]
    }
   ],
   "source": [
    "import numpy as np \n",
    "\n",
    "from sklearn import preprocessing\n",
    "\n",
    "data=np.array([[3,5],[7,4],[2,4]])\n",
    "\n",
    "scaller_model=preprocessing.MinMaxScaler()\n",
    "\n",
    "op=scaller_model.fit_transform(data)\n",
    "print(op)"
   ]
  },
  {
   "cell_type": "code",
   "execution_count": 4,
   "id": "b6698b60",
   "metadata": {},
   "outputs": [
    {
     "name": "stdout",
     "output_type": "stream",
     "text": [
      "[[0.2 1. ]\n",
      " [1.  0. ]\n",
      " [0.  0. ]]\n"
     ]
    }
   ],
   "source": [
    "import numpy as np \n",
    "\n",
    "from sklearn import preprocessing\n",
    "\n",
    "data=np.array([[3,5],[7,4],[2,4]])\n",
    "\n",
    "scaller_model=preprocessing.MinMaxScaler()\n",
    "\n",
    "op=scaller_model.fit_transform(data)\n",
    "print(op)\n"
   ]
  },
  {
   "cell_type": "markdown",
   "id": "816656ee",
   "metadata": {},
   "source": [
    "# Normlization"
   ]
  },
  {
   "cell_type": "code",
   "execution_count": 10,
   "id": "74274a91",
   "metadata": {},
   "outputs": [
    {
     "name": "stdout",
     "output_type": "stream",
     "text": [
      "[[0.375      0.625     ]\n",
      " [0.63636364 0.36363636]\n",
      " [0.33333333 0.66666667]]\n"
     ]
    }
   ],
   "source": [
    "data=np.array([[3,5],[7,4],[2,4]])\n",
    "\n",
    "op=preprocessing.normalize(data,norm='l1')\n",
    "print(op)"
   ]
  },
  {
   "cell_type": "markdown",
   "id": "c362ff02",
   "metadata": {},
   "source": [
    "# Binarization"
   ]
  },
  {
   "cell_type": "code",
   "execution_count": 12,
   "id": "7f8ba1e6",
   "metadata": {},
   "outputs": [
    {
     "name": "stdout",
     "output_type": "stream",
     "text": [
      "[[3 5]\n",
      " [7 4]\n",
      " [2 4]]\n",
      "[[0 0]\n",
      " [1 0]\n",
      " [0 0]]\n"
     ]
    }
   ],
   "source": [
    "import numpy as np \n",
    "\n",
    "from sklearn import preprocessing\n",
    "\n",
    "data=np.array([[3,5],[7,4],[2,4]])\n",
    "binarized_data=preprocessing.Binarizer(threshold=5)\n",
    "op=binarized_data.fit_transform(data)\n",
    "print(data)\n",
    "print(op)\n"
   ]
  },
  {
   "cell_type": "markdown",
   "id": "a5046fac",
   "metadata": {},
   "source": [
    "# Label Encoding"
   ]
  },
  {
   "cell_type": "code",
   "execution_count": 17,
   "id": "733be9f8",
   "metadata": {},
   "outputs": [
    {
     "name": "stdout",
     "output_type": "stream",
     "text": [
      "['apple', 'banana', 'mango', 'grapes', 'apple', 'banana', 'mango', 'grapes']\n",
      "[0 1 3 2 0 1 3 2]\n",
      "[1 2]\n",
      "['mango' 'apple']\n"
     ]
    }
   ],
   "source": [
    "from sklearn.preprocessing import LabelEncoder\n",
    "\n",
    "data=['apple','banana','mango','grapes','apple','banana','mango','grapes']\n",
    "labeled_data=preprocessing.LabelEncoder()\n",
    "op=labeled_data.fit_transform(data)\n",
    "print(data)\n",
    "print(op)\n",
    "\n",
    "#testing the model\n",
    "test_data=['banana','grapes']\n",
    "test_op=labeled_data.transform(test_data)\n",
    "print(test_op)\n",
    "\n",
    "#inverse testing\n",
    "test_data=[3,0]\n",
    "op=labeled_data.inverse_transform(test_data)\n",
    "print(op)"
   ]
  },
  {
   "cell_type": "code",
   "execution_count": null,
   "id": "a7096ad8",
   "metadata": {},
   "outputs": [],
   "source": []
  }
 ],
 "metadata": {
  "kernelspec": {
   "display_name": "Python 3 (ipykernel)",
   "language": "python",
   "name": "python3"
  },
  "language_info": {
   "codemirror_mode": {
    "name": "ipython",
    "version": 3
   },
   "file_extension": ".py",
   "mimetype": "text/x-python",
   "name": "python",
   "nbconvert_exporter": "python",
   "pygments_lexer": "ipython3",
   "version": "3.9.6"
  }
 },
 "nbformat": 4,
 "nbformat_minor": 5
}
